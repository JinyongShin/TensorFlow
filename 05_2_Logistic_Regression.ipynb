{
  "nbformat": 4,
  "nbformat_minor": 0,
  "metadata": {
    "colab": {
      "name": "05_2 Logistic_Regression.ipynb",
      "provenance": [],
      "authorship_tag": "ABX9TyMvT+NzHmYU7x7wTaXOsd0e",
      "include_colab_link": true
    },
    "kernelspec": {
      "name": "python3",
      "display_name": "Python 3"
    },
    "language_info": {
      "name": "python"
    }
  },
  "cells": [
    {
      "cell_type": "markdown",
      "metadata": {
        "id": "view-in-github",
        "colab_type": "text"
      },
      "source": [
        "<a href=\"https://colab.research.google.com/github/JinyongShin/TensorFlow/blob/main/05_2_Logistic_Regression.ipynb\" target=\"_parent\"><img src=\"https://colab.research.google.com/assets/colab-badge.svg\" alt=\"Open In Colab\"/></a>"
      ]
    },
    {
      "cell_type": "markdown",
      "metadata": {
        "id": "JrVUG89fNGvO"
      },
      "source": [
        "Logistic Classfication을 diabetes data를 활용하여 모델을 만들어 보도록 하겠습니다 ### 기본 Library 선언 및 Tensorflow 버전 확인"
      ]
    },
    {
      "cell_type": "code",
      "metadata": {
        "colab": {
          "base_uri": "https://localhost:8080/"
        },
        "id": "0OwYAMrsM7h0",
        "outputId": "d639f71b-7f92-4066-b577-25d3a167b38a"
      },
      "source": [
        "import numpy as np\n",
        "import matplotlib.pyplot as plt\n",
        "import tensorflow as tf\n",
        "\n",
        "tf.random.set_seed(777)\n",
        "print(tf.__version__)\n",
        "\n",
        "\n",
        "### Google Drive Mount\n",
        "from google.colab import drive\n",
        "drive.mount(\"/content/drive\",force_remount=True)"
      ],
      "execution_count": 7,
      "outputs": [
        {
          "output_type": "stream",
          "text": [
            "2.4.1\n",
            "Mounted at /content/drive\n"
          ],
          "name": "stdout"
        }
      ]
    },
    {
      "cell_type": "code",
      "metadata": {
        "colab": {
          "base_uri": "https://localhost:8080/"
        },
        "id": "AXr3pHTPRqeE",
        "outputId": "a291b962-e142-478d-a200-658c459dfaeb"
      },
      "source": [
        "xy = np.loadtxt(\"drive/MyDrive/TensorFlow/data-03-diabetes.csv\" , delimiter = ',' , dtype = np.float32)\n",
        "x_train = xy[:,0:-1]\n",
        "y_train = xy[:,[-1]]\n",
        "\n",
        "print(x_train.shape , y_train.shape)\n",
        "print(xy)"
      ],
      "execution_count": 10,
      "outputs": [
        {
          "output_type": "stream",
          "text": [
            "(759, 8) (759, 1)\n",
            "[[-0.294118   0.487437   0.180328  ... -0.53117   -0.0333333  0.       ]\n",
            " [-0.882353  -0.145729   0.0819672 ... -0.766866  -0.666667   1.       ]\n",
            " [-0.0588235  0.839196   0.0491803 ... -0.492741  -0.633333   0.       ]\n",
            " ...\n",
            " [-0.411765   0.21608    0.180328  ... -0.857387  -0.7        1.       ]\n",
            " [-0.882353   0.266332  -0.0163934 ... -0.768574  -0.133333   0.       ]\n",
            " [-0.882353  -0.0653266  0.147541  ... -0.797609  -0.933333   1.       ]]\n"
          ],
          "name": "stdout"
        }
      ]
    },
    {
      "cell_type": "markdown",
      "metadata": {
        "id": "qA6DF2pcSF5K"
      },
      "source": [
        "tensorflow data api 를 통해 학습시킬 값들을 담는다. (Batch size는 한번에 학습시킬 size)"
      ]
    },
    {
      "cell_type": "code",
      "metadata": {
        "id": "XXceEVtFSABx"
      },
      "source": [
        "dataset = tf.data.Dataset.from_tensor_slices((x_train, y_train)).batch(len(x_train))"
      ],
      "execution_count": 11,
      "outputs": []
    },
    {
      "cell_type": "markdown",
      "metadata": {
        "id": "Qf-MiespSTgq"
      },
      "source": [
        "W와 b은 학습을 통해 생성되는 모델에 쓰이는 Wegith와 Bias (초기값을 variable : 0이나 Random값으로 가능 tf.random_normal([2, 1]) )"
      ]
    },
    {
      "cell_type": "code",
      "metadata": {
        "id": "wjhlRjqTSRSA"
      },
      "source": [
        "W = tf.Variable(tf.random.normal((8, 1)), name='weight')\n",
        "b = tf.Variable(tf.random.normal((1,)), name='bias')"
      ],
      "execution_count": 12,
      "outputs": []
    },
    {
      "cell_type": "markdown",
      "metadata": {
        "id": "MTyPyT3_SamC"
      },
      "source": [
        "sigmoid --> 가설 선언"
      ]
    },
    {
      "cell_type": "code",
      "metadata": {
        "id": "Ur9oRjuWSYwA"
      },
      "source": [
        "def logistic_regression(features):\n",
        "    hypothesis  = tf.divide(1., 1. + tf.exp(tf.matmul(features, W) + b))\n",
        "    return hypothesis"
      ],
      "execution_count": 13,
      "outputs": []
    },
    {
      "cell_type": "markdown",
      "metadata": {
        "id": "noD6HmMbSgcC"
      },
      "source": [
        "Cost Function 정의"
      ]
    },
    {
      "cell_type": "code",
      "metadata": {
        "id": "aQnGx0OOSfCf"
      },
      "source": [
        "def loss_fn(hypothesis, features, labels):\n",
        "    cost = -tf.reduce_mean(labels * tf.math.log(logistic_regression(features)) + (1 - labels) * tf.math.log(1 - hypothesis))\n",
        "    return cost\n",
        "\n",
        "optimizer = tf.keras.optimizers.SGD(learning_rate=0.01)"
      ],
      "execution_count": 14,
      "outputs": []
    },
    {
      "cell_type": "markdown",
      "metadata": {
        "id": "32gPQL3iSlmc"
      },
      "source": [
        "GradientTape --> 경사값 계산"
      ]
    },
    {
      "cell_type": "code",
      "metadata": {
        "id": "ZDAsh0ASSkjO"
      },
      "source": [
        "def grad(hypothesis, features, labels):\n",
        "    with tf.GradientTape() as tape:\n",
        "        loss_value = loss_fn(logistic_regression(features),features,labels)\n",
        "    return tape.gradient(loss_value, [W,b])"
      ],
      "execution_count": 15,
      "outputs": []
    },
    {
      "cell_type": "markdown",
      "metadata": {
        "id": "L4vUp3pDSrp7"
      },
      "source": [
        "학습 실행"
      ]
    },
    {
      "cell_type": "code",
      "metadata": {
        "colab": {
          "base_uri": "https://localhost:8080/"
        },
        "id": "m5WGxKDZSq72",
        "outputId": "32fe3f56-f0df-4922-d508-1ba80894587d"
      },
      "source": [
        "EPOCHS = 1001\n",
        "\n",
        "for step in range(EPOCHS):\n",
        "    for features, labels  in iter(dataset):\n",
        "        grads = grad(logistic_regression(features), features, labels)\n",
        "        optimizer.apply_gradients(grads_and_vars=zip(grads,[W,b]))\n",
        "        if step % 100 == 0:\n",
        "            print(\"Iter: {}, Loss: {:.4f}\".format(step, loss_fn(logistic_regression(features),features,labels)))"
      ],
      "execution_count": 16,
      "outputs": [
        {
          "output_type": "stream",
          "text": [
            "Iter: 0, Loss: 0.6556\n",
            "Iter: 100, Loss: 0.6188\n",
            "Iter: 200, Loss: 0.5980\n",
            "Iter: 300, Loss: 0.5854\n",
            "Iter: 400, Loss: 0.5769\n",
            "Iter: 500, Loss: 0.5704\n",
            "Iter: 600, Loss: 0.5648\n",
            "Iter: 700, Loss: 0.5599\n",
            "Iter: 800, Loss: 0.5555\n",
            "Iter: 900, Loss: 0.5513\n",
            "Iter: 1000, Loss: 0.5475\n"
          ],
          "name": "stdout"
        }
      ]
    }
  ]
}