{
  "nbformat": 4,
  "nbformat_minor": 0,
  "metadata": {
    "colab": {
      "name": "03 Build_Simplified_Hypothesis_cost.ipynb",
      "provenance": [],
      "authorship_tag": "ABX9TyMz188i8fOmf4vAVJa2ic3b",
      "include_colab_link": true
    },
    "kernelspec": {
      "name": "python3",
      "display_name": "Python 3"
    }
  },
  "cells": [
    {
      "cell_type": "markdown",
      "metadata": {
        "id": "view-in-github",
        "colab_type": "text"
      },
      "source": [
        "<a href=\"https://colab.research.google.com/github/JinyongShin/TensorFlow/blob/main/03_Build_Simplified_Hypothesis_cost.ipynb\" target=\"_parent\"><img src=\"https://colab.research.google.com/assets/colab-badge.svg\" alt=\"Open In Colab\"/></a>"
      ]
    },
    {
      "cell_type": "code",
      "metadata": {
        "colab": {
          "base_uri": "https://localhost:8080/",
          "height": 35
        },
        "id": "AFJ5-dW2djS0",
        "outputId": "0fdc718e-f174-47ef-97a3-8fe8c1760d91"
      },
      "source": [
        "import tensorflow as tf\r\n",
        "import numpy as np\r\n",
        "tf.__version__"
      ],
      "execution_count": 4,
      "outputs": [
        {
          "output_type": "execute_result",
          "data": {
            "application/vnd.google.colaboratory.intrinsic+json": {
              "type": "string"
            },
            "text/plain": [
              "'2.4.0'"
            ]
          },
          "metadata": {
            "tags": []
          },
          "execution_count": 4
        }
      ]
    },
    {
      "cell_type": "markdown",
      "metadata": {
        "id": "acR58aAkdYTp"
      },
      "source": [
        "Hypothesis\r\n",
        "\r\n",
        "H(x) = Wx + b\r\n",
        "\r\n",
        "Simplified Hypothesis\r\n",
        "\r\n",
        "H(x) = Wx\r\n",
        "\r\n",
        "cost(W,b) = $\\frac{1}{m}$$\\sum_{i=1}^{m}$${(H(x_{(i)})-y_{(i)})}^{2}$\r\n",
        "\r\n",
        "becomes\r\n",
        "\r\n",
        "cost(W) = $\\frac{1}{m}$$\\sum_{i=1}^{m}$${(Wx_{(i)}-y_{(i)})}^{2}$"
      ]
    },
    {
      "cell_type": "code",
      "metadata": {
        "id": "PCSm9DlGdmYt"
      },
      "source": [
        "#x , y 데이터 \r\n",
        "x_data = [1.,2.,3.,4.]\r\n",
        "y_data = [1.,2.,3.,4.]"
      ],
      "execution_count": 13,
      "outputs": []
    },
    {
      "cell_type": "markdown",
      "metadata": {
        "id": "Xx1NRN_JR-n9"
      },
      "source": [
        "Cost Function"
      ]
    },
    {
      "cell_type": "code",
      "metadata": {
        "id": "uZRaBUHZfM4K"
      },
      "source": [
        "#Cost(W) 를 함수로 선언\r\n",
        "@tf.function\r\n",
        "def cost_func(W,x,y):\r\n",
        "  hypothesis = W * x\r\n",
        "  cost = tf.reduce_mean(tf.square(hypothesis - y))\r\n",
        "  return cost"
      ],
      "execution_count": 20,
      "outputs": []
    },
    {
      "cell_type": "code",
      "metadata": {
        "id": "RY95s6sYS8W5"
      },
      "source": [
        "#W 범위 리스트 , 빈 cost 리스트\r\n",
        "W = np.linspace(-3,5,num=15)\r\n",
        "cost = list()"
      ],
      "execution_count": 21,
      "outputs": []
    },
    {
      "cell_type": "markdown",
      "metadata": {
        "id": "CIDX_pPjUJpF"
      },
      "source": [
        "cost_func 사용해서 w 값에 따른 cost 값 출력 "
      ]
    },
    {
      "cell_type": "code",
      "metadata": {
        "colab": {
          "base_uri": "https://localhost:8080/"
        },
        "id": "YcwmMXJKTd0n",
        "outputId": "1bdf14b9-9de8-4ac0-bf40-f9ebb787bd87"
      },
      "source": [
        "for feed_w in W:\r\n",
        "  curr_cost = cost_func(feed_w,x_data,y_data)\r\n",
        "  cost.append(curr_cost)\r\n",
        "  print(\"{:6.3f}|{:10.5f}\".format(feed_w,curr_cost))"
      ],
      "execution_count": 22,
      "outputs": [
        {
          "output_type": "stream",
          "text": [
            "-3.000| 120.00000\n",
            "-2.429|  88.16327\n",
            "-1.857|  61.22449\n",
            "-1.286|  39.18367\n",
            "-0.714|  22.04082\n",
            "-0.143|   9.79592\n",
            " 0.429|   2.44898\n",
            " 1.000|   0.00000\n",
            " 1.571|   2.44898\n",
            " 2.143|   9.79592\n",
            " 2.714|  22.04082\n",
            " 3.286|  39.18367\n",
            " 3.857|  61.22449\n",
            " 4.429|  88.16327\n",
            " 5.000| 120.00000\n"
          ],
          "name": "stdout"
        }
      ]
    },
    {
      "cell_type": "markdown",
      "metadata": {
        "id": "V40FKEQ1UXRi"
      },
      "source": [
        "Gradient descent"
      ]
    },
    {
      "cell_type": "code",
      "metadata": {
        "colab": {
          "base_uri": "https://localhost:8080/"
        },
        "id": "pJ543HL88Twn",
        "outputId": "62a6b374-4ce3-42d8-d88a-64a2557a2df0"
      },
      "source": [
        "learning_rate = 0.01\r\n",
        "\r\n",
        "W = tf.Variable(tf.random.normal([1],-100,100))\r\n",
        "print(W.numpy())\r\n",
        "for i in range(100):\r\n",
        "  #Gradient decent\r\n",
        "  with tf.GradientTape() as tape: #with 구문 내부 변수의 정보를 GradientTape의 tape에 저장\r\n",
        "    hypothesis = W * x_data\r\n",
        "    cost = tf.reduce_mean(tf.square(hypothesis - y_data))\r\n",
        "    \r\n",
        "  W_grad = tape.gradient(cost, W) #gradient 함수로 cost 함수의 W,b 변수에 대한 개별 미분값을 반환\r\n",
        "  W.assign_sub(learning_rate * W_grad)\r\n",
        " \r\n",
        "\r\n",
        "  if i % 10 == 0: #i값이 10의 배수가 될 때 마다 출력!\r\n",
        "    print(\"{:5} | {:10.4} | {:10.6f}\".format(i,W.numpy()[0],cost.numpy()))"
      ],
      "execution_count": 51,
      "outputs": [
        {
          "output_type": "stream",
          "text": [
            "[-17.744461]\n",
            "    0 |     -14.93 | 2635.161133\n",
            "   10 |     -2.137 | 102.137619\n",
            "   20 |     0.3825 |   3.958807\n",
            "   30 |     0.8784 |   0.153441\n",
            "   40 |     0.9761 |   0.005947\n",
            "   50 |     0.9953 |   0.000231\n",
            "   60 |     0.9991 |   0.000009\n",
            "   70 |     0.9998 |   0.000000\n",
            "   80 |        1.0 |   0.000000\n",
            "   90 |        1.0 |   0.000000\n"
          ],
          "name": "stdout"
        }
      ]
    },
    {
      "cell_type": "markdown",
      "metadata": {
        "id": "GJ0pYyWr90FZ"
      },
      "source": [
        "여러번 수행할 수록 가까운 값에 다가감.\r\n",
        "반복 수행하면, W 는 1로, b는 0으로 점점 수렴해 가는 것을 확인할 수 있음."
      ]
    },
    {
      "cell_type": "code",
      "metadata": {
        "colab": {
          "base_uri": "https://localhost:8080/"
        },
        "id": "z5NcB_JR-TA-",
        "outputId": "10090336-3cac-4e9c-c03c-f7ed6b822211"
      },
      "source": [
        "tf.print(W * 5) \r\n",
        "tf.print(W * 2.5)"
      ],
      "execution_count": 53,
      "outputs": [
        {
          "output_type": "stream",
          "text": [
            "[4.99999189]\n",
            "[2.49999595]\n"
          ],
          "name": "stdout"
        }
      ]
    },
    {
      "cell_type": "markdown",
      "metadata": {
        "id": "qBTcVu30-aR3"
      },
      "source": [
        "실제로 값이 잘 나오는 것을 한 번 더 확인할 수 있었다."
      ]
    }
  ]
}