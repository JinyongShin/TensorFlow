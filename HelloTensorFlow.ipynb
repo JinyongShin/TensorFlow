{
  "nbformat": 4,
  "nbformat_minor": 0,
  "metadata": {
    "colab": {
      "name": "HelloTensorFlow.ipynb",
      "provenance": [],
      "authorship_tag": "ABX9TyOpfXV1XnKhWgS0VbwP7Ncy",
      "include_colab_link": true
    },
    "kernelspec": {
      "name": "python3",
      "display_name": "Python 3"
    }
  },
  "cells": [
    {
      "cell_type": "markdown",
      "metadata": {
        "id": "view-in-github",
        "colab_type": "text"
      },
      "source": [
        "<a href=\"https://colab.research.google.com/github/JinyongShin/TensorFlow/blob/main/HelloTensorFlow.ipynb\" target=\"_parent\"><img src=\"https://colab.research.google.com/assets/colab-badge.svg\" alt=\"Open In Colab\"/></a>"
      ]
    },
    {
      "cell_type": "code",
      "metadata": {
        "colab": {
          "base_uri": "https://localhost:8080/",
          "height": 35
        },
        "id": "M9OXgDqW7Ou-",
        "outputId": "3ddc344e-63cb-4490-db9d-e072ccf01e91"
      },
      "source": [
        "import tensorflow as tf\r\n",
        "\r\n",
        "tf.__version__"
      ],
      "execution_count": null,
      "outputs": [
        {
          "output_type": "execute_result",
          "data": {
            "application/vnd.google.colaboratory.intrinsic+json": {
              "type": "string"
            },
            "text/plain": [
              "'2.4.0'"
            ]
          },
          "metadata": {
            "tags": []
          },
          "execution_count": 10
        }
      ]
    },
    {
      "cell_type": "code",
      "metadata": {
        "colab": {
          "base_uri": "https://localhost:8080/"
        },
        "id": "Koql2f4cUAJd",
        "outputId": "0d559d81-398a-4b31-b746-004c422fdf9a"
      },
      "source": [
        "hello = tf.constant(\"Hello, TensorFlow!\")\r\n",
        "\r\n",
        "def fun():\r\n",
        "  return hello\r\n",
        "tf.print(hello)\r\n",
        "tf.print(fun())\r\n",
        "print(hello)\r\n",
        "print(fun())"
      ],
      "execution_count": null,
      "outputs": [
        {
          "output_type": "stream",
          "text": [
            "Hello, TensorFlow!\n",
            "Hello, TensorFlow!\n",
            "tf.Tensor(b'Hello, TensorFlow!', shape=(), dtype=string)\n",
            "tf.Tensor(b'Hello, TensorFlow!', shape=(), dtype=string)\n"
          ],
          "name": "stdout"
        }
      ]
    },
    {
      "cell_type": "code",
      "metadata": {
        "colab": {
          "base_uri": "https://localhost:8080/"
        },
        "id": "VWsbJ90RaLHB",
        "outputId": "864578f1-36cb-46e1-d339-f02ad73a93b4"
      },
      "source": [
        "hello = tf.constant(\"Hello, TensorFlow!\")\r\n",
        "@tf.function\r\n",
        "def fun():\r\n",
        "  return hello\r\n",
        "tf.print(hello)\r\n",
        "tf.print(fun())\r\n",
        "print(hello)\r\n",
        "print(fun())"
      ],
      "execution_count": null,
      "outputs": [
        {
          "output_type": "stream",
          "text": [
            "Hello, TensorFlow!\n",
            "Hello, TensorFlow!\n",
            "tf.Tensor(b'Hello, TensorFlow!', shape=(), dtype=string)\n",
            "tf.Tensor(b'Hello, TensorFlow!', shape=(), dtype=string)\n"
          ],
          "name": "stdout"
        }
      ]
    },
    {
      "cell_type": "code",
      "metadata": {
        "colab": {
          "base_uri": "https://localhost:8080/"
        },
        "id": "N-Lol2oQWA-X",
        "outputId": "d7658620-99a6-4328-fe93-66ce00a3b13b"
      },
      "source": [
        "node1 = tf.constant(3.0, tf.float32)\r\n",
        "node2 = tf.constant(4.0)\r\n",
        "\r\n",
        "def node3():\r\n",
        "  return node1+node2\r\n",
        "\r\n",
        "tf.print(node1,\"+\",node2)\r\n",
        "tf.print(node3())"
      ],
      "execution_count": null,
      "outputs": [
        {
          "output_type": "stream",
          "text": [
            "3 + 4\n",
            "7\n"
          ],
          "name": "stdout"
        }
      ]
    },
    {
      "cell_type": "code",
      "metadata": {
        "colab": {
          "base_uri": "https://localhost:8080/"
        },
        "id": "3EvcDV5OaV2O",
        "outputId": "4b9c7d1b-5b69-4341-e16e-0577d4e0f76c"
      },
      "source": [
        "node1 = tf.constant(3.0, tf.float32)\r\n",
        "node2 = tf.constant(4.0)\r\n",
        "\r\n",
        "@tf.function\r\n",
        "def node3():\r\n",
        "  return node1+node2\r\n",
        "\r\n",
        "tf.print(node1,\"+\",node2)\r\n",
        "tf.print(node3())"
      ],
      "execution_count": null,
      "outputs": [
        {
          "output_type": "stream",
          "text": [
            "3 + 4\n",
            "7\n"
          ],
          "name": "stdout"
        }
      ]
    },
    {
      "cell_type": "markdown",
      "metadata": {
        "id": "R1gAu4_9aa8W"
      },
      "source": [
        "tf.function 으로 정의한 함수는 기본 텐서플로 연산과 같다.\r\n",
        "즉시 실행 가능\r\n",
        "다른 함수 내부에서 사용 가능\r\n",
        "\r\n",
        "tf.function은 즉시 실행 모드 보다 빠릅니다. 특히 그래프에 작은 연산이 많을 때 그렇습니다. 하지만 (합성곱처럼) 계산량이 많은 연산 몇 개로 이루어진 그래프는 속도 향상이 크지 않습니다\r\n",
        "\r\n",
        "\r\n",
        "일반적으로 tf.function 보다 즉시 실행 모드가 디버깅하기 쉽습니다. tf.function으로 데코레이팅하기 전에 즉시 실행 모드에서 에러가 없는지 확인하세요. 디버깅 과정을 위해 tf.config.run_functions_eagerly(True)으로 전체 tf.function을 비활성화하고 나중에 다시 활성화할 수 있습니다.\r\n",
        "\r\n",
        "tf.function 함수에서 버그를 추적할 때 다음 팁을 참고하세요:\r\n",
        "\r\n",
        "파이썬 print 함수는 트레이싱(tracing)하는 동안에만 호출되므로 함수가 (재)트레이싱될 때 추적하는데 도움이 됩니다.\r\n",
        "tf.print 함수는 언제나 실행되므로 실행하는 동안 중간 값을 추적할 때 도움이 됩니다.\r\n",
        "tf.debugging.enable_check_numerics을 사용하면 쉽게 NaN과 Inf가 발생되는 곳을 추적할 수 있습니다.\r\n",
        "pdb는 어떻게 트레이싱이 일어나는지 이해하는데 도움이 됩니다(주의: pdb는 오토그래프(AutoGraph)가 변환한 소스 코드를 보여줄 것입니다).\r\n",
        "\r\n",
        "\r\n",
        "--from TensorFlow Core \r\n",
        "https://www.tensorflow.org/guide?hl=ko"
      ]
    },
    {
      "cell_type": "code",
      "metadata": {
        "id": "lGjrLgADbJYE"
      },
      "source": [
        ""
      ],
      "execution_count": null,
      "outputs": []
    }
  ]
}