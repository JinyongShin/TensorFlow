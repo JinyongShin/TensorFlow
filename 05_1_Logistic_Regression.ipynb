{
  "nbformat": 4,
  "nbformat_minor": 0,
  "metadata": {
    "colab": {
      "name": "05_1 Logistic_Regression.ipynb",
      "provenance": [],
      "authorship_tag": "ABX9TyMCokXgEc48mEvPzEKUS1cU",
      "include_colab_link": true
    },
    "kernelspec": {
      "name": "python3",
      "display_name": "Python 3"
    }
  },
  "cells": [
    {
      "cell_type": "markdown",
      "metadata": {
        "id": "view-in-github",
        "colab_type": "text"
      },
      "source": [
        "<a href=\"https://colab.research.google.com/github/JinyongShin/TensorFlow/blob/main/05_1_Logistic_Regression.ipynb\" target=\"_parent\"><img src=\"https://colab.research.google.com/assets/colab-badge.svg\" alt=\"Open In Colab\"/></a>"
      ]
    },
    {
      "cell_type": "markdown",
      "metadata": {
        "id": "x-Ynbb43hogT"
      },
      "source": [
        "#Logistic Classification (Regression) - Eager Execution\n",
        "\n",
        "Logistic Classification 은 True or False 와 같은 Binary나 복수개의 다항 분류에 쓰입니다."
      ]
    },
    {
      "cell_type": "code",
      "metadata": {
        "id": "3Mzy2tO9hjkz"
      },
      "source": [
        "import tensorflow as tf\n",
        "import numpy as np\n",
        "import matplotlib.pyplot as plt\n"
      ],
      "execution_count": 1,
      "outputs": []
    },
    {
      "cell_type": "code",
      "metadata": {
        "colab": {
          "base_uri": "https://localhost:8080/",
          "height": 35
        },
        "id": "E10_Gl-dOMTK",
        "outputId": "2683c3b9-87c6-4b5c-8b87-80861e9f3db9"
      },
      "source": [
        "tf.__version__"
      ],
      "execution_count": 2,
      "outputs": [
        {
          "output_type": "execute_result",
          "data": {
            "application/vnd.google.colaboratory.intrinsic+json": {
              "type": "string"
            },
            "text/plain": [
              "'2.4.1'"
            ]
          },
          "metadata": {
            "tags": []
          },
          "execution_count": 2
        }
      ]
    },
    {
      "cell_type": "code",
      "metadata": {
        "id": "qMYQzlItOWgA"
      },
      "source": [
        "tf.random.set_seed(777) # For reproducibility"
      ],
      "execution_count": 3,
      "outputs": []
    },
    {
      "cell_type": "markdown",
      "metadata": {
        "id": "CxKQ41C1PHee"
      },
      "source": [
        "x_data --> 2차원 배열 --> 2차원 공간에 표현하여 x1 과 x2를 기준으로 y_data를 0과 1로 구분하는 예제"
      ]
    },
    {
      "cell_type": "code",
      "metadata": {
        "id": "a1ftQL-uOd-P"
      },
      "source": [
        "x_train = [[1. , 2. ] ,\n",
        "           [2. , 3.] ,\n",
        "           [3. , 1.] ,\n",
        "           [4. , 3.] ,\n",
        "           [5. , 3.] ,\n",
        "           [6. , 2.]]\n",
        "\n",
        "y_train = [[0.] ,\n",
        "           [0.] ,\n",
        "           [0.] ,\n",
        "           [1.] , \n",
        "           [1.] ,\n",
        "           [1.]]\n",
        "\n",
        "x_test = [[5. ,2.]]\n",
        "y_test = [[1.]]\n",
        "\n",
        "x1 = [x[0] for x in x_train]\n",
        "x2 = [x[1] for x in x_train]"
      ],
      "execution_count": 4,
      "outputs": []
    },
    {
      "cell_type": "code",
      "metadata": {
        "colab": {
          "base_uri": "https://localhost:8080/",
          "height": 279
        },
        "id": "iZngTjOYQRkG",
        "outputId": "15f26fba-9f53-4e14-b6bc-0c6c0bf30ad2"
      },
      "source": [
        "colors = [int(y[0] % 3) for y in y_train]\n",
        "\n",
        "plt.scatter(x1 , x2 , c = colors , marker = '^')\n",
        "plt.scatter(x_test[0][0] , x_test[0][1] , c = 'red')\n",
        "\n",
        "plt.xlabel(\"x1\")\n",
        "plt.ylabel(\"x2\")\n",
        "plt.show()"
      ],
      "execution_count": 5,
      "outputs": [
        {
          "output_type": "display_data",
          "data": {
            "image/png": "[encoded data removed]",
            "text/plain": [
              "<Figure size 432x288 with 1 Axes>"
            ]
          },
          "metadata": {
            "tags": [],
            "needs_background": "light"
          }
        }
      ]
    },
    {
      "cell_type": "markdown",
      "metadata": {
        "id": "6TB2PbbfRSEs"
      },
      "source": [
        "#Tensorflow Eager\n",
        "\n",
        "위 Data를 기준으로 가설의 검증을 통해 Logistic Classification 모델을 만들도록 하겠습니다.\n",
        "\n",
        "- Tensorflow data API를 통해 학습시킬 값들을 담는다.(Batch Size는 한번에 학습시킬 Size로 정한다.)\n",
        "\n",
        "- features,labels는 실재 학습에 쓰일 Data (연산을 위해 Type을 맞춘다.)"
      ]
    },
    {
      "cell_type": "code",
      "metadata": {
        "id": "GL6wEAISRRQM"
      },
      "source": [
        "dataset = tf.data.Dataset.from_tensor_slices((x_train , y_train)).batch(len(x_train)) #.repeat()"
      ],
      "execution_count": 6,
      "outputs": []
    },
    {
      "cell_type": "markdown",
      "metadata": {
        "id": "ikqHtTj0R_Gu"
      },
      "source": [
        "위 Data를 기준으로 가설의 검증을 통해  Logistic Classification 모델을 만들도록 하겠습니다.\n",
        "\n",
        "- W와 b --> 학습을 통해 생성되는 모델에 쓰이는 Weight와 Bias (초기값을 variable : 0 이나 Random 값으로 가능 tf.random_normal([2,1]))"
      ]
    },
    {
      "cell_type": "code",
      "metadata": {
        "id": "KqCWMygrSUco"
      },
      "source": [
        "W = tf.Variable(tf.zeros([2 , 1]) , name = 'weight')\n",
        "b = tf.Variable(tf.zeros([1]) , name = 'bias')"
      ],
      "execution_count": 7,
      "outputs": []
    },
    {
      "cell_type": "markdown",
      "metadata": {
        "id": "nNuTPe4zSouO"
      },
      "source": [
        "Sigmoid 함수를 가설로 선언합니다.\n",
        "\n",
        "- sigmoid는 0.5를 기준으로 0 과 1 만의 값을 리턴, tf.sigmoid(tf.matmul(X , W) + b) --> 아래 sigmoid 그래프 참고"
      ]
    },
    {
      "cell_type": "code",
      "metadata": {
        "colab": {
          "base_uri": "https://localhost:8080/",
          "height": 265
        },
        "id": "fAW3-sbUT4rh",
        "outputId": "e183481b-4521-4fb1-a2be-88d3384252df"
      },
      "source": [
        "sigx_list =  list(range(-10 , 10))\n",
        "sigy_list = list()\n",
        "for x in sigx_list:\n",
        "  sigmoid_x = tf.sigmoid(float(x))\n",
        "  sigy_list.append(sigmoid_x)\n",
        "\n",
        "plt.plot(sigx_list , sigy_list)\n",
        "plt.grid()\n",
        "plt.show()"
      ],
      "execution_count": 8,
      "outputs": [
        {
          "output_type": "display_data",
          "data": {
            "image/png": "[encoded data removed]",
            "text/plain": [
              "<Figure size 432x288 with 1 Axes>"
            ]
          },
          "metadata": {
            "tags": [],
            "needs_background": "light"
          }
        }
      ]
    },
    {
      "cell_type": "code",
      "metadata": {
        "id": "XS-JfejxSe3g"
      },
      "source": [
        "def logistic_regression(features):\n",
        "  hypothesis = tf.divide(1. , 1. + tf.exp(tf.matmul(features , W) + b))\n",
        "  return hypothesis"
      ],
      "execution_count": 9,
      "outputs": []
    },
    {
      "cell_type": "markdown",
      "metadata": {
        "id": "2STTvUMJTMuG"
      },
      "source": [
        "가설을 검증할 Cost 함수를 정의\n",
        "\n",
        "$cost(h(x),y)$"
      ]
    },
    {
      "cell_type": "code",
      "metadata": {
        "id": "VhPLWpCnTLN8"
      },
      "source": [
        "def loss_fn(hypothesis , features , labels):\n",
        "  cost = -tf.reduce_mean(labels * tf.math.log(logistic_regression(features)) + (1 - labels) * tf.math.log(1 - hypothesis))\n",
        "  return cost\n",
        "optimizer = tf.keras.optimizers.SGD(learning_rate = 0.01)"
      ],
      "execution_count": 16,
      "outputs": []
    },
    {
      "cell_type": "markdown",
      "metadata": {
        "id": "9oSx65ynTxdn"
      },
      "source": [
        "추론값은 sigmoid 함수에 따라 0.5를 기준으로 0과 1의 값을 리턴\n",
        "\n",
        "- Sigmoid 함수를 통해 예측값이 0.5 보다 크면 1을 반환하고, 작으면 0을 반환\n",
        "\n",
        "- 가설을 통해 실재 값과 비교한 정확도를 측정"
      ]
    },
    {
      "cell_type": "code",
      "metadata": {
        "id": "JK9Ii9d9W6Z4"
      },
      "source": [
        "def accuracy_fn(hypothesis , labels):\n",
        "  predicted = tf.cast(hypothesis > 0.5 , dtype = tf.float32)\n",
        "  accuracy = tf.reduce_mean(tf.cast(tf.equal(predicted, labels), dtype = tf.float32))\n",
        "  return accuracy"
      ],
      "execution_count": 12,
      "outputs": []
    },
    {
      "cell_type": "markdown",
      "metadata": {
        "id": "0zLbMzJ2XUUX"
      },
      "source": [
        "Gradient Tape을 통해 경사값을 계산"
      ]
    },
    {
      "cell_type": "code",
      "metadata": {
        "id": "5GdWW62UXY8O"
      },
      "source": [
        "def grad(features , labels):\n",
        "  with tf.GradientTape() as tape:\n",
        "    loss_value = loss_fn(logistic_regression(features) , features , labels)\n",
        "  return tape.gradient(loss_value , [W , b])"
      ],
      "execution_count": 13,
      "outputs": []
    },
    {
      "cell_type": "markdown",
      "metadata": {
        "id": "dgY2JLT8Xu83"
      },
      "source": [
        "학습 실행\n",
        "\n",
        "- 위의 Data를 Cost 함수를 통해 학습시킨 후 모델을 생성\n",
        "\n",
        "- 새로운 Data를 통한 검증 수행 [5 , 2]의 Data로 테스트 수행 ( 그래프상 1이 나와야 정상)"
      ]
    },
    {
      "cell_type": "code",
      "metadata": {
        "colab": {
          "base_uri": "https://localhost:8080/"
        },
        "id": "5ADBY5YNXtvb",
        "outputId": "82a1bbf7-9b20-4a9b-db75-e615df72dbe8"
      },
      "source": [
        "EPOCHS = 1001\n",
        "\n",
        "for step in range(EPOCHS):\n",
        "  for features , labels in iter(dataset):\n",
        "    grads = grad(features , labels)\n",
        "    optimizer.apply_gradients(grads_and_vars=zip(grads, [W ,b]))\n",
        "    if step % 100 == 0 :\n",
        "      print(\"Iter : {} , Loss : {:.4f}\".format(step , loss_fn(logistic_regression(features) , features , labels)))\n",
        "test_acc = accuracy_fn(logistic_regression(x_test) , y_test)\n",
        "print(\"Testset Accuracy : {:.4f}\".format(test_acc))"
      ],
      "execution_count": 17,
      "outputs": [
        {
          "output_type": "stream",
          "text": [
            "Iter : 0 , Loss : 0.6874\n",
            "Iter : 100 , Loss : 0.5776\n",
            "Iter : 200 , Loss : 0.5349\n",
            "Iter : 300 , Loss : 0.5054\n",
            "Iter : 400 , Loss : 0.4838\n",
            "Iter : 500 , Loss : 0.4671\n",
            "Iter : 600 , Loss : 0.4535\n",
            "Iter : 700 , Loss : 0.4420\n",
            "Iter : 800 , Loss : 0.4319\n",
            "Iter : 900 , Loss : 0.4228\n",
            "Iter : 1000 , Loss : 0.4144\n",
            "Testset Accuracy : 1.0000\n"
          ],
          "name": "stdout"
        }
      ]
    }
  ]
}