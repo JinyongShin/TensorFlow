{
  "nbformat": 4,
  "nbformat_minor": 0,
  "metadata": {
    "colab": {
      "name": "06_2 Softmax Zoo_Classifier_eager.ipynb",
      "provenance": [],
      "authorship_tag": "ABX9TyNl4hQNAF3RR/kjGzceQE50",
      "include_colab_link": true
    },
    "kernelspec": {
      "name": "python3",
      "display_name": "Python 3"
    },
    "language_info": {
      "name": "python"
    }
  },
  "cells": [
    {
      "cell_type": "markdown",
      "metadata": {
        "id": "view-in-github",
        "colab_type": "text"
      },
      "source": [
        "<a href=\"https://colab.research.google.com/github/JinyongShin/TensorFlow/blob/main/06_2_Softmax_Zoo_Classifier_eager.ipynb\" target=\"_parent\"><img src=\"https://colab.research.google.com/assets/colab-badge.svg\" alt=\"Open In Colab\"/></a>"
      ]
    },
    {
      "cell_type": "code",
      "metadata": {
        "colab": {
          "base_uri": "https://localhost:8080/"
        },
        "id": "HTgQq4D-nsps",
        "outputId": "ec2fcf75-eaf7-41f2-99ff-4c216f4dbc35"
      },
      "source": [
        "import numpy as np\n",
        "import matplotlib.pyplot as plt\n",
        "import tensorflow as tf\n",
        "\n",
        "tf.random.set_seed(777)\n",
        "print(tf.__version__)\n",
        "\n",
        "\n",
        "### Google Drive Mount\n",
        "from google.colab import drive\n",
        "drive.mount(\"/content/drive\",force_remount=True)"
      ],
      "execution_count": 1,
      "outputs": [
        {
          "output_type": "stream",
          "text": [
            "2.4.1\n",
            "Mounted at /content/drive\n"
          ],
          "name": "stdout"
        }
      ]
    },
    {
      "cell_type": "code",
      "metadata": {
        "colab": {
          "base_uri": "https://localhost:8080/"
        },
        "id": "aWgbXsGen9oA",
        "outputId": "bb7575f3-5b86-4db4-c8d0-80b7b6253f79"
      },
      "source": [
        "xy = np.loadtxt(\"drive/MyDrive/TensorFlow/data-04-zoo.csv\" , delimiter = ',' , dtype = np.float32)\n",
        "x_data = xy[:,0:-1]\n",
        "y_data = xy[:,-1]\n",
        "\n",
        "nb_classes = 7 # 0~6\n",
        "\n",
        "# Make Y data as onehot shape\n",
        "Y_one_hot = tf.one_hot(y_data.astype(np.int32), nb_classes)\n",
        "\n",
        "print(x_data.shape , Y_one_hot.shape)"
      ],
      "execution_count": 2,
      "outputs": [
        {
          "output_type": "stream",
          "text": [
            "(101, 16) (101, 7)\n"
          ],
          "name": "stdout"
        }
      ]
    },
    {
      "cell_type": "code",
      "metadata": {
        "id": "TE1AF6w2oerk"
      },
      "source": [
        "# Weight and bias setting\n",
        "W = tf.Variable(tf.random.normal((16 , nb_classes)) , name = 'weight')\n",
        "b = tf.Variable(tf.random.normal((nb_classes ,)) , name = 'bias')\n",
        "variables = [W , b]\n",
        "\n",
        "# tf.nn.sofrmax computes softmax activations\n",
        "# softmax = exp(logits) / reduce_sum(exp(logits) , dim)\n",
        "\n",
        "def logit_fn(X) :\n",
        "  return tf.matmul(X , W) + b\n",
        "\n",
        "def hypothesis(X) :\n",
        "  return tf.nn.softmax(logit_fn(X))\n",
        "\n",
        "def cost_fn(X , Y) :\n",
        "  logits = logit_fn(X)\n",
        "  cost_i = tf.keras.losses.categorical_crossentropy(y_true = Y , y_pred = logits , from_logits = True)\n",
        "  cost = tf.reduce_mean(cost_i)\n",
        "  return cost\n",
        "\n",
        "def grad_fn(X , Y) :\n",
        "  with tf.GradientTape() as tape :\n",
        "    loss = cost_fn(X , Y)\n",
        "    grads = tape.gradient(loss , variables)\n",
        "    return grads\n",
        "\n",
        "def prediction(X , Y) :\n",
        "  pred = tf.argmax(hypothesis(X) , 1)\n",
        "  correct_prediction = tf.equal(pred , tf.argmax(Y ,1))\n",
        "  accuracy = tf.reduce_mean(tf.cast(correct_prediction , tf.float32))\n",
        "  return accuracy"
      ],
      "execution_count": 3,
      "outputs": []
    },
    {
      "cell_type": "markdown",
      "metadata": {
        "id": "nnNYwrDyqVav"
      },
      "source": [
        "Training"
      ]
    },
    {
      "cell_type": "code",
      "metadata": {
        "id": "sl2W5xjIqWRz"
      },
      "source": [
        "def fit(X , Y , epochs = 1000 , verbose = 100) :\n",
        "  optimizer = tf.keras.optimizers.SGD(learning_rate = 0.1)\n",
        "\n",
        "  for i in range(epochs) :\n",
        "    grads = grad_fn(X , Y)\n",
        "    optimizer.apply_gradients(zip(grads , variables))\n",
        "    if (i == 0) | ((i + 1) % verbose == 0) :\n",
        "      acc = prediction(X , Y).numpy()\n",
        "      loss = cost_fn(X ,Y).numpy()\n",
        "      print('Steps: {} Loss: {}, Acc: {}'.format(i+1, loss, acc))"
      ],
      "execution_count": 4,
      "outputs": []
    },
    {
      "cell_type": "code",
      "metadata": {
        "colab": {
          "base_uri": "https://localhost:8080/"
        },
        "id": "0IeF5RIxrAGR",
        "outputId": "1d7f1539-26de-4727-df8e-9edad448822a"
      },
      "source": [
        "fit(x_data , Y_one_hot)"
      ],
      "execution_count": 5,
      "outputs": [
        {
          "output_type": "stream",
          "text": [
            "Steps: 1 Loss: 3.635028839111328, Acc: 0.1683168262243271\n",
            "Steps: 100 Loss: 0.5194157958030701, Acc: 0.7920792102813721\n",
            "Steps: 200 Loss: 0.31850090622901917, Acc: 0.9108911156654358\n",
            "Steps: 300 Loss: 0.23534876108169556, Acc: 0.9405940771102905\n",
            "Steps: 400 Loss: 0.18872135877609253, Acc: 0.9504950642585754\n",
            "Steps: 500 Loss: 0.1584603488445282, Acc: 0.9504950642585754\n",
            "Steps: 600 Loss: 0.13703754544258118, Acc: 0.9900990128517151\n",
            "Steps: 700 Loss: 0.12098980695009232, Acc: 0.9900990128517151\n",
            "Steps: 800 Loss: 0.10847963392734528, Acc: 1.0\n",
            "Steps: 900 Loss: 0.09843039512634277, Acc: 1.0\n",
            "Steps: 1000 Loss: 0.09016557037830353, Acc: 1.0\n"
          ],
          "name": "stdout"
        }
      ]
    }
  ]
}